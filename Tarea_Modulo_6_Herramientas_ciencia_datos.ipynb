{
 "cells": [
  {
   "cell_type": "markdown",
   "metadata": {},
   "source": [
    "# Mi Cuaderno de Ciencia de Datos"
   ]
  },
  {
   "cell_type": "markdown",
   "metadata": {},
   "source": [
    "## Introducción\n",
    "Este cuaderno contiene ejemplos y ejercicios relacionados con la ciencia de datos."
   ]
  },
  {
   "cell_type": "markdown",
   "metadata": {},
   "source": [
    "## Lenguajes de la Ciencia de Datos\n",
    "- Python\n",
    "- R\n",
    "- SQL\n"
   ]
  },
  {
   "cell_type": "markdown",
   "metadata": {},
   "source": [
    "## Bibliotecas de Ciencia de Datos\n",
    "- NumPy\n",
    "- Pandas\n",
    "- Matplotlib\n",
    "- Scikit-learn\n"
   ]
  },
  {
   "cell_type": "markdown",
   "metadata": {},
   "source": [
    "## Herramientas de Ciencia de Datos\n",
    "| Herramienta      | Uso                 |\n",
    "|------------------|---------------------|\n",
    "| Jupyter Notebook | Desarrollo interactivo |\n",
    "| RStudio          | Desarrollo en R     |\n",
    "| Tableau          | Visualización de datos |\n"
   ]
  },
  {
   "cell_type": "markdown",
   "metadata": {},
   "source": [
    "## Ejemplos de Expresiones Aritméticas\n",
    "- Suma: `1 + 1 = 2`\n",
    "- Multiplicación: `2 * 3 = 6`\n"
   ]
  },
  {
   "cell_type": "code",
   "execution_count": 1,
   "metadata": {},
   "outputs": [
    {
     "name": "stdout",
     "output_type": "stream",
     "text": [
      "Multiplicación: 35\n",
      "Suma: 12\n"
     ]
    }
   ],
   "source": [
    "# Multiplicar y Sumar Números\n",
    "a = 5\n",
    "b = 7\n",
    "multiplicación = a * b\n",
    "suma = a + b\n",
    "print(\"Multiplicación:\", multiplicación)\n",
    "print(\"Suma:\", suma)\n"
   ]
  },
  {
   "cell_type": "code",
   "execution_count": 2,
   "metadata": {},
   "outputs": [
    {
     "name": "stdout",
     "output_type": "stream",
     "text": [
      "120 minutos son 2.0 horas\n"
     ]
    }
   ],
   "source": [
    "# Convertir Minutos en Horas\n",
    "minutos = 120\n",
    "horas = minutos / 60\n",
    "print(f\"{minutos} minutos son {horas} horas\")\n"
   ]
  },
  {
   "cell_type": "code",
   "execution_count": 3,
   "metadata": {},
   "outputs": [
    {
     "name": "stdout",
     "output_type": "stream",
     "text": [
      "Aprender Python\n",
      "Dominar la ciencia de datos\n",
      "Crear proyectos impactantes\n"
     ]
    }
   ],
   "source": [
    "# Listar Objetivos\n",
    "objetivos = [\"Aprender Python\", \"Dominar la ciencia de datos\", \"Crear proyectos impactantes\"]\n",
    "for objetivo in objetivos:\n",
    "    print(objetivo)\n"
   ]
  },
  {
   "cell_type": "markdown",
   "metadata": {},
   "source": [
    "## Autor\n",
    "Nombre del Autor: [David Hernanz Yebra]\n"
   ]
  }
 ],
 "metadata": {
  "language_info": {
   "name": "python"
  }
 },
 "nbformat": 4,
 "nbformat_minor": 2
}
